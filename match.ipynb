{
 "cells": [
  {
   "cell_type": "code",
   "execution_count": 3,
   "metadata": {
    "collapsed": true
   },
   "outputs": [],
   "source": [
    "# coding: UTF-8"
   ]
  },
  {
   "cell_type": "code",
   "execution_count": 253,
   "metadata": {
    "collapsed": false
   },
   "outputs": [
    {
     "name": "stdout",
     "output_type": "stream",
     "text": [
      "男性No 1 が 1 番目に好きな女性は\n",
      "1\n",
      "男性No 1 が 2 番目に好きな女性は\n",
      "2\n",
      "男性No 1 が 3 番目に好きな女性は\n",
      "3\n",
      "男性No 1 が 4 番目に好きな女性は\n",
      "1\n",
      "男性No 1 が 5 番目に好きな女性は\n",
      "2\n",
      "男性No 1 の選好入力終わり\n",
      "男性No 2 が 1 番目に好きな女性は\n",
      "3\n",
      "男性No 2 が 2 番目に好きな女性は\n",
      "1\n",
      "男性No 2 が 3 番目に好きな女性は\n",
      "2\n",
      "男性No 2 が 4 番目に好きな女性は\n",
      "3\n",
      "男性No 2 が 5 番目に好きな女性は\n",
      "1\n",
      "男性No 2 の選好入力終わり\n",
      "男性No 3 が 1 番目に好きな女性は\n",
      "1\n",
      "男性No 3 が 2 番目に好きな女性は\n",
      "1\n",
      "男性No 3 が 3 番目に好きな女性は\n",
      "4\n",
      "男性No 3 が 4 番目に好きな女性は\n",
      "3\n",
      "男性No 3 が 5 番目に好きな女性は\n",
      "4\n",
      "男性No 3 の選好入力終わり\n",
      "男性No 4 が 1 番目に好きな女性は\n",
      "3\n",
      "男性No 4 が 2 番目に好きな女性は\n",
      "2\n",
      "男性No 4 が 3 番目に好きな女性は\n",
      "1\n",
      "男性No 4 が 4 番目に好きな女性は\n",
      "3\n",
      "男性No 4 が 5 番目に好きな女性は\n",
      "4\n",
      "男性No 4 の選好入力終わり\n",
      "男性No 5 が 1 番目に好きな女性は\n",
      "5\n",
      "男性No 5 が 2 番目に好きな女性は\n",
      "3\n",
      "男性No 5 が 3 番目に好きな女性は\n",
      "2\n",
      "男性No 5 が 4 番目に好きな女性は\n",
      "1\n",
      "男性No 5 が 5 番目に好きな女性は\n",
      "2\n",
      "男性No 5 の選好入力終わり\n"
     ]
    },
    {
     "data": {
      "text/plain": [
       "[(1, [1, 2, 3, 1, 2]),\n",
       " (2, [3, 1, 2, 3, 1]),\n",
       " (3, [1, 1, 4, 3, 4]),\n",
       " (4, [3, 2, 1, 3, 4]),\n",
       " (5, [5, 3, 2, 1, 2])]"
      ]
     },
     "execution_count": 253,
     "metadata": {},
     "output_type": "execute_result"
    }
   ],
   "source": [
    "male = {}\n",
    "male2 = []\n",
    "for i in range(5):\n",
    "    list = []\n",
    "    for j in range(5):\n",
    "        print \"男性No\",i+1,\"が\",j+1,\"番目に好きな女性は\" \n",
    "        pref = input()\n",
    "        list.append(int(pref))\n",
    "    male.update({i+1: list})\n",
    "    male2 = male.items()\n",
    "    print \"男性No\", i+1,\"の選好入力終わり\"\n",
    "male2"
   ]
  },
  {
   "cell_type": "code",
   "execution_count": 177,
   "metadata": {
    "collapsed": false
   },
   "outputs": [
    {
     "name": "stdout",
     "output_type": "stream",
     "text": [
      "女性No 1 が 1 番目に好きな男性は\n",
      "3\n",
      "女性No 1 が 2 番目に好きな男性は\n",
      "3\n",
      "女性No 1 が 3 番目に好きな男性は\n",
      "3\n",
      "女性No 1 が 4 番目に好きな男性は\n",
      "3\n",
      "女性No 1 が 5 番目に好きな男性は\n",
      "3\n",
      "No 1 の選好入力終わり\n",
      "女性No 2 が 1 番目に好きな男性は\n",
      "3\n",
      "女性No 2 が 2 番目に好きな男性は\n",
      "3\n",
      "女性No 2 が 3 番目に好きな男性は\n",
      "3\n",
      "女性No 2 が 4 番目に好きな男性は\n",
      "3\n",
      "女性No 2 が 5 番目に好きな男性は\n",
      "3\n",
      "No 2 の選好入力終わり\n",
      "女性No 3 が 1 番目に好きな男性は\n",
      "3\n",
      "女性No 3 が 2 番目に好きな男性は\n",
      "3\n",
      "女性No 3 が 3 番目に好きな男性は\n",
      "3\n",
      "女性No 3 が 4 番目に好きな男性は\n",
      "3\n",
      "女性No 3 が 5 番目に好きな男性は\n",
      "3\n",
      "No 3 の選好入力終わり\n",
      "女性No 4 が 1 番目に好きな男性は\n",
      "3\n",
      "女性No 4 が 2 番目に好きな男性は\n",
      "3\n",
      "女性No 4 が 3 番目に好きな男性は\n",
      "3\n",
      "女性No 4 が 4 番目に好きな男性は\n",
      "3\n",
      "女性No 4 が 5 番目に好きな男性は\n",
      "3\n",
      "No 4 の選好入力終わり\n",
      "女性No 5 が 1 番目に好きな男性は\n",
      "3\n",
      "女性No 5 が 2 番目に好きな男性は\n",
      "5\n",
      "女性No 5 が 3 番目に好きな男性は\n",
      "5\n",
      "女性No 5 が 4 番目に好きな男性は\n",
      "5\n",
      "女性No 5 が 5 番目に好きな男性は\n",
      "5\n",
      "No 5 の選好入力終わり\n"
     ]
    },
    {
     "data": {
      "text/plain": [
       "[(1, [3, 3, 3, 3, 3]),\n",
       " (2, [3, 3, 3, 3, 3]),\n",
       " (3, [3, 3, 3, 3, 3]),\n",
       " (4, [3, 3, 3, 3, 3]),\n",
       " (5, [3, 5, 5, 5, 5])]"
      ]
     },
     "execution_count": 177,
     "metadata": {},
     "output_type": "execute_result"
    }
   ],
   "source": [
    "female = {}\n",
    "female2 = []\n",
    "for i in range(5):\n",
    "    list = []\n",
    "    for j in range(5):\n",
    "        print \"女性No\",i+1,\"が\",j+1,\"番目に好きな男性は\" \n",
    "        pref = input()\n",
    "        list.append(int(pref))\n",
    "    female.update({i+1: list})\n",
    "    female2 = female.items()\n",
    "    print \"No\", i+1,\"の選好入力終わり\"\n",
    "female2"
   ]
  },
  {
   "cell_type": "code",
   "execution_count": 254,
   "metadata": {
    "collapsed": false
   },
   "outputs": [
    {
     "data": {
      "text/plain": [
       "[[1, 2, 3, 1, 2],\n",
       " [3, 1, 2, 3, 1],\n",
       " [1, 1, 4, 3, 4],\n",
       " [3, 2, 1, 3, 4],\n",
       " [5, 3, 2, 1, 2]]"
      ]
     },
     "execution_count": 254,
     "metadata": {},
     "output_type": "execute_result"
    }
   ],
   "source": [
    "mpref = []\n",
    "for i in range(len(male2)):\n",
    "    mpref.append(male2[i][1])\n",
    "mpref"
   ]
  },
  {
   "cell_type": "code",
   "execution_count": 255,
   "metadata": {
    "collapsed": false,
    "scrolled": true
   },
   "outputs": [
    {
     "data": {
      "text/plain": [
       "[[3, 3, 3, 3, 3],\n",
       " [3, 3, 3, 3, 3],\n",
       " [3, 3, 3, 3, 3],\n",
       " [3, 3, 3, 3, 3],\n",
       " [3, 5, 5, 5, 5]]"
      ]
     },
     "execution_count": 255,
     "metadata": {},
     "output_type": "execute_result"
    }
   ],
   "source": [
    "fpref = []\n",
    "for i in range(len(female2)):\n",
    "    fpref.append(female2[i][1])\n",
    "fpref"
   ]
  },
  {
   "cell_type": "code",
   "execution_count": 256,
   "metadata": {
    "collapsed": false
   },
   "outputs": [
    {
     "name": "stdout",
     "output_type": "stream",
     "text": [
      "男性No.0は女性No.1と結ばれました。 [0, 0, 0, 3, 0]\n",
      "男性No.1は女性No.0と結ばれました。 [0, 0, 0, 3, 0]\n",
      "男性No.2は女性No.0と結ばれました。 [0, 0, 0, 3, 0]\n",
      "男性No.3は女性No.4と結ばれました。 [0, 0, 0, 3, 0]\n",
      "男性No.4は女性No.0と結ばれました。 [0, 0, 0, 3, 0]\n",
      "男性No.5は女性No.0と結ばれました。 [0, 0, 0, 3, 0]\n"
     ]
    }
   ],
   "source": [
    "mnum = len(mpref)\n",
    "fnum = len(fpref)\n",
    "single = []\n",
    "married = {}\n",
    "have = []\n",
    "down = 0\n",
    "\n",
    "for i in range(fnum):\n",
    "    have.append(0)\n",
    "\n",
    "for i in range(mnum):\n",
    "    single.append(i)\n",
    "    \n",
    "while len(single) > 0:\n",
    "    \n",
    "    for i in single:\n",
    "        \n",
    "        mbest = mpref[i][down] - 1\n",
    "            \n",
    "        if i+1 in fpref[mbest]:            #i+1が選好にいるか否か\n",
    "            if have[mbest] == 0:\n",
    "                single.remove(i)\n",
    "                have[mbest] = i + 1\n",
    "            else:\n",
    "                if down <= len(mpref):\n",
    "                    if fpref[mbest].index(i+1) > fpref[mbest].index(have[mbest]):\n",
    "                        single.remove(i)\n",
    "                        single.append(have[mbest]-1)\n",
    "                        have[mbest] = i + 1  \n",
    "                    else:\n",
    "                        down += 1\n",
    "                else:\n",
    "                    single.remove(i)\n",
    "                    married.update({i+1: 0})\n",
    "            \n",
    "        elif down < len(mpref)-1:\n",
    "            down += 1\n",
    "        else:\n",
    "            single.remove(i)\n",
    "            married.update({i+1: 0})\n",
    "           \n",
    "    \n",
    "for i in have:\n",
    "    if i != 0:\n",
    "        married.update({i:have.index(i)+1})\n",
    "    else:\n",
    "        married.update({0:have.index(i)+1})\n",
    "    \n",
    "married = married.items()\n",
    "for (i, j) in married:\n",
    "    print \"男性No.%sは女性No.%sと結ばれました。\" % (i, j) ,have"
   ]
  }
 ],
 "metadata": {
  "kernelspec": {
   "display_name": "Python 2",
   "language": "python",
   "name": "python2"
  },
  "language_info": {
   "codemirror_mode": {
    "name": "ipython",
    "version": 2
   },
   "file_extension": ".py",
   "mimetype": "text/x-python",
   "name": "python",
   "nbconvert_exporter": "python",
   "pygments_lexer": "ipython2",
   "version": "2.7.9"
  }
 },
 "nbformat": 4,
 "nbformat_minor": 0
}
