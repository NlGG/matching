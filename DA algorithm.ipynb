{
 "cells": [
  {
   "cell_type": "code",
   "execution_count": 400,
   "metadata": {
    "collapsed": true
   },
   "outputs": [],
   "source": [
    "class Male(object):\n",
    "    def __init__(self, id, prefList):\n",
    "        self.prefList = prefList\n",
    "        self.under = 0 \n",
    "        self.id = id\n",
    " \n",
    "    def best(self):\n",
    "        return self.prefList[self.under]\n",
    " \n",
    "    def __repr__(self):\n",
    "        return repr(self.id)"
   ]
  },
  {
   "cell_type": "code",
   "execution_count": 111,
   "metadata": {
    "collapsed": false,
    "scrolled": true
   },
   "outputs": [
    {
     "name": "stdout",
     "output_type": "stream",
     "text": [
      "pref> 1\n",
      "pref> 2\n",
      "pref> 3\n",
      "pref> 4\n",
      "pref> 51\n",
      "1 終わり\n",
      "pref> 1\n",
      "pref> 1\n",
      "pref> 1\n",
      "pref> 1\n",
      "pref> 1\n",
      "2 終わり\n",
      "pref> 1\n",
      "pref> 1\n",
      "pref> 1\n",
      "pref> 1\n",
      "pref> 1\n",
      "3 終わり\n",
      "pref> 1\n",
      "pref> 1\n",
      "pref> 1\n",
      "pref> 1\n",
      "pref> 1\n",
      "4 終わり\n",
      "pref> 1\n",
      "pref> 1\n",
      "pref> 1\n",
      "pref> 1\n",
      "pref> 1\n",
      "5 終わり\n"
     ]
    },
    {
     "data": {
      "text/plain": [
       "[(1, [1, 2, 3, 4, 51]),\n",
       " (2, [1, 1, 1, 1, 1]),\n",
       " (3, [1, 1, 1, 1, 1]),\n",
       " (4, [1, 1, 1, 1, 1]),\n",
       " (5, [1, 1, 1, 1, 1])]"
      ]
     },
     "execution_count": 111,
     "metadata": {},
     "output_type": "execute_result"
    }
   ],
   "source": [
    "# coding: UTF-8\n",
    "male = {}\n",
    "male2 = []\n",
    "for i in range(5):\n",
    "    list = []\n",
    "    for j in range(5):\n",
    "        pref = raw_input(\"pref> \")\n",
    "        list.append(int(pref))\n",
    "    male.update({i+1: list})\n",
    "    male2 = male.items()\n",
    "    print i+1,\"終わり\"\n",
    "male2"
   ]
  },
  {
   "cell_type": "code",
   "execution_count": 270,
   "metadata": {
    "collapsed": true
   },
   "outputs": [],
   "source": [
    "male2 = [(1, [1, 2, 3, 4, 51]),\n",
    " (2, [1, 1, 1, 1, 1]),\n",
    " (3, [1, 1, 1, 1, 1]),\n",
    " (4, [1, 1, 1, 1, 1]),\n",
    " (5, [1, 1, 1, 1, 1])]"
   ]
  },
  {
   "cell_type": "code",
   "execution_count": 382,
   "metadata": {
    "collapsed": false
   },
   "outputs": [
    {
     "data": {
      "text/plain": [
       "[1, 2, 3, 4, 5]"
      ]
     },
     "execution_count": 382,
     "metadata": {},
     "output_type": "execute_result"
    }
   ],
   "source": [
    "males = []\n",
    "for i in range(0,5):\n",
    "    a = male2[i][1]\n",
    "    males.append(Male(i+1,a))\n",
    "males"
   ]
  },
  {
   "cell_type": "code",
   "execution_count": null,
   "metadata": {
    "collapsed": true
   },
   "outputs": [],
   "source": [
    "#Male(())の入力になってはいけない。"
   ]
  },
  {
   "cell_type": "code",
   "execution_count": 372,
   "metadata": {
    "collapsed": false
   },
   "outputs": [
    {
     "data": {
      "text/plain": [
       "[1, 2, 3, 4, 5]"
      ]
     },
     "execution_count": 372,
     "metadata": {},
     "output_type": "execute_result"
    }
   ],
   "source": []
  },
  {
   "cell_type": "code",
   "execution_count": 135,
   "metadata": {
    "collapsed": false
   },
   "outputs": [
    {
     "name": "stdout",
     "output_type": "stream",
     "text": [
      "[1, 2, 3, 4, 51]\n",
      "[1, 1, 1, 1, 1]\n",
      "[1, 1, 1, 1, 1]\n",
      "[1, 1, 1, 1, 1]\n",
      "[1, 1, 1, 1, 1]\n"
     ]
    }
   ],
   "source": [
    "for i in range(0,5):\n",
    "    print(males[i].prefList)"
   ]
  },
  {
   "cell_type": "code",
   "execution_count": 356,
   "metadata": {
    "collapsed": false
   },
   "outputs": [],
   "source": [
    "class Female(object):\n",
    "    def __init__(self, id, prefList):\n",
    "        self.prefList = prefList\n",
    "        self.held = None\n",
    "        self.currentMales = 0\n",
    "        self.id = id\n",
    "    \n",
    "    def __repr__(self):\n",
    "        return repr(self.id)\n",
    "    \n",
    "    def reject(self):\n",
    "        if len(self.currentMales) == 0:\n",
    "            return set()\n",
    " \n",
    "        if self.held is not None:\n",
    "            self.currentMales.add(self.held)\n",
    " \n",
    "        self.held = min(self.currentMales, key=lambda Males: self.prefList.index(males.id))\n",
    "        rejected = self.currentMales - set([self.held])\n",
    "        self.currentMales = set()\n",
    " \n",
    "        return rejected"
   ]
  },
  {
   "cell_type": "code",
   "execution_count": 261,
   "metadata": {
    "collapsed": false,
    "scrolled": true
   },
   "outputs": [
    {
     "name": "stdout",
     "output_type": "stream",
     "text": [
      "pref> 1\n",
      "pref> 2\n",
      "pref> 3\n",
      "pref> 1\n",
      "pref> 2\n",
      "1 終わり\n",
      "pref> 3\n",
      "pref> 1\n",
      "pref> 2\n",
      "pref> 3\n",
      "pref> 1\n",
      "2 終わり\n",
      "pref> 2\n",
      "pref> 3\n",
      "pref> 1\n",
      "pref> 2\n",
      "pref> 3\n",
      "3 終わり\n",
      "pref> 1\n",
      "pref> 2\n",
      "pref> 3\n",
      "pref> 1\n",
      "pref> 2\n",
      "4 終わり\n",
      "pref> 3\n",
      "pref> 1\n",
      "pref> 1\n",
      "pref> 1\n",
      "pref> 1\n",
      "5 終わり\n"
     ]
    },
    {
     "data": {
      "text/plain": [
       "[(1, [1, 2, 3, 1, 2]),\n",
       " (2, [3, 1, 2, 3, 1]),\n",
       " (3, [2, 3, 1, 2, 3]),\n",
       " (4, [1, 2, 3, 1, 2]),\n",
       " (5, [3, 1, 1, 1, 1])]"
      ]
     },
     "execution_count": 261,
     "metadata": {},
     "output_type": "execute_result"
    }
   ],
   "source": [
    "female = {}\n",
    "for i in range(5):\n",
    "    list = []\n",
    "    for j in range(5):\n",
    "        pref = raw_input(\"pref> \")\n",
    "        list.append(int(pref))\n",
    "    female.update({i+1: list})\n",
    "    female2 = female.items()\n",
    "    print i+1,\"終わり\"\n",
    "female2"
   ]
  },
  {
   "cell_type": "code",
   "execution_count": 357,
   "metadata": {
    "collapsed": true
   },
   "outputs": [],
   "source": [
    "female2 = [(1, [1, 2, 3, 1, 2]),\n",
    " (2, [3, 1, 2, 3, 1]),\n",
    " (3, [2, 3, 1, 2, 3]),\n",
    " (4, [1, 2, 3, 1, 2]),\n",
    " (5, [3, 1, 1, 1, 1])]"
   ]
  },
  {
   "cell_type": "code",
   "execution_count": 358,
   "metadata": {
    "collapsed": false
   },
   "outputs": [
    {
     "data": {
      "text/plain": [
       "[1, 2, 3, 4, 5]"
      ]
     },
     "execution_count": 358,
     "metadata": {},
     "output_type": "execute_result"
    }
   ],
   "source": [
    "females = []\n",
    "for i in range(0,5):\n",
    "    a = female2[i][1]\n",
    "    females.append(Female(i+1,a))\n",
    "females"
   ]
  },
  {
   "cell_type": "code",
   "execution_count": 195,
   "metadata": {
    "collapsed": false
   },
   "outputs": [],
   "source": [
    "# monogamousStableMarriage: [Suitor], [Suited] -> {Suitor -> Suited}\n",
    "# construct a stable (monogamous) marriage between suitors and suiteds\n",
    "def Marriage(males, females):\n",
    "    unassigned = set(males)\n",
    " \n",
    "    while len(unassigned) > 0:\n",
    "        \n",
    "        for males in unassigned:\n",
    "            females[males.preference()].currentMales.add(males)\n",
    "            unassigned = set()\n",
    " \n",
    "        for females in females:\n",
    "            unassigned |= females.reject()\n",
    " \n",
    "        for males in unassigned:\n",
    "            males.under += 1\n",
    " \n",
    "    return dict([(suited.held, suited) for suited in suiteds])\n"
   ]
  },
  {
   "cell_type": "code",
   "execution_count": 437,
   "metadata": {
    "collapsed": false
   },
   "outputs": [
    {
     "data": {
      "text/plain": [
       "[1, 2, 3, 4, 5]"
      ]
     },
     "execution_count": 437,
     "metadata": {},
     "output_type": "execute_result"
    }
   ],
   "source": [
    "males = []\n",
    "for i in range(0,5):\n",
    "    a = male2[i][1]\n",
    "    males.append(Male(i+1,a))\n",
    "males"
   ]
  },
  {
   "cell_type": "code",
   "execution_count": null,
   "metadata": {
    "collapsed": true
   },
   "outputs": [],
   "source": [
    "mprefer = [[1, 2, 3, 4],\n",
    "           [3, 2, 1, 4],\n",
    "           [1, 2, 4, 3],\n",
    "           [3, 1, 4, 2]]\n",
    "fprefer = [[1, 2, 3, 4],\n",
    "           [2, 1, 4, 3],\n",
    "           [2, 3, 1, 4],\n",
    "           [1, 4, 3, 2]]"
   ]
  },
  {
   "cell_type": "code",
   "execution_count": 423,
   "metadata": {
    "collapsed": false
   },
   "outputs": [
    {
     "ename": "AttributeError",
     "evalue": "'int' object has no attribute 'best'",
     "output_type": "error",
     "traceback": [
      "\u001b[0;31m---------------------------------------------------------------------------\u001b[0m",
      "\u001b[0;31mAttributeError\u001b[0m                            Traceback (most recent call last)",
      "\u001b[0;32m<ipython-input-423-a28a10937bc4>\u001b[0m in \u001b[0;36m<module>\u001b[0;34m()\u001b[0m\n\u001b[1;32m      7\u001b[0m         \u001b[0;32mfor\u001b[0m \u001b[0mmales\u001b[0m \u001b[0;32min\u001b[0m \u001b[0mfemales\u001b[0m\u001b[0;34m[\u001b[0m\u001b[0mmales\u001b[0m\u001b[0;34m.\u001b[0m\u001b[0mbest\u001b[0m\u001b[0;34m(\u001b[0m\u001b[0;34m)\u001b[0m\u001b[0;34m]\u001b[0m\u001b[0;34m.\u001b[0m\u001b[0mprefList\u001b[0m\u001b[0;34m:\u001b[0m\u001b[0;34m\u001b[0m\u001b[0m\n\u001b[1;32m      8\u001b[0m \u001b[0;34m\u001b[0m\u001b[0m\n\u001b[0;32m----> 9\u001b[0;31m             \u001b[0;32mif\u001b[0m \u001b[0mfemales\u001b[0m\u001b[0;34m[\u001b[0m\u001b[0mmales\u001b[0m\u001b[0;34m.\u001b[0m\u001b[0mbest\u001b[0m\u001b[0;34m(\u001b[0m\u001b[0;34m)\u001b[0m\u001b[0;34m]\u001b[0m\u001b[0;34m.\u001b[0m\u001b[0mcurrentMales\u001b[0m \u001b[0;34m==\u001b[0m \u001b[0;36m0\u001b[0m\u001b[0;34m:\u001b[0m\u001b[0;34m\u001b[0m\u001b[0m\n\u001b[0m\u001b[1;32m     10\u001b[0m                 \u001b[0mfemales\u001b[0m\u001b[0;34m[\u001b[0m\u001b[0mmales\u001b[0m\u001b[0;34m.\u001b[0m\u001b[0mbest\u001b[0m\u001b[0;34m(\u001b[0m\u001b[0;34m)\u001b[0m\u001b[0;34m]\u001b[0m\u001b[0;34m.\u001b[0m\u001b[0mcurrentMales\u001b[0m \u001b[0;34m=\u001b[0m \u001b[0mmales\u001b[0m\u001b[0;34m\u001b[0m\u001b[0m\n\u001b[1;32m     11\u001b[0m \u001b[0;34m\u001b[0m\u001b[0m\n",
      "\u001b[0;31mAttributeError\u001b[0m: 'int' object has no attribute 'best'"
     ]
    }
   ],
   "source": [
    "single = set(males)\n",
    "\n",
    "while len(single) > 0:\n",
    "    \n",
    "    for males in single:\n",
    "    \n",
    "        for males in females[males.best()].prefList:\n",
    "            \n",
    "            if females[males.best()].currentMales == 0:\n",
    "                females[males.best()].currentMales = males\n",
    "                \n",
    "            elif  females[males.best()].prefList.index(females[males.best()].currentMales) < females[loved].prefList.index(i):\n",
    "                females[males.best()].currentMales = 0\n",
    "                females[males.best()].currentMales = males\n",
    "        \n",
    "    else:\n",
    "        males.under +=1\n",
    "\n",
    "return "
   ]
  },
  {
   "cell_type": "code",
   "execution_count": 415,
   "metadata": {
    "collapsed": false
   },
   "outputs": [
    {
     "data": {
      "text/plain": [
       "1"
      ]
     },
     "execution_count": 415,
     "metadata": {},
     "output_type": "execute_result"
    }
   ],
   "source": [
    "males[1].best()"
   ]
  },
  {
   "cell_type": "code",
   "execution_count": 438,
   "metadata": {
    "collapsed": false
   },
   "outputs": [
    {
     "name": "stdout",
     "output_type": "stream",
     "text": [
      "1\n",
      "1\n",
      "1\n",
      "1\n",
      "1\n"
     ]
    }
   ],
   "source": [
    "single = set(males)\n",
    "\n",
    "for males in single:\n",
    "    print(males.best())\n"
   ]
  },
  {
   "cell_type": "code",
   "execution_count": 313,
   "metadata": {
    "collapsed": false
   },
   "outputs": [
    {
     "ename": "TypeError",
     "evalue": "list indices must be integers, not list",
     "output_type": "error",
     "traceback": [
      "\u001b[0;31m---------------------------------------------------------------------------\u001b[0m",
      "\u001b[0;31mTypeError\u001b[0m                                 Traceback (most recent call last)",
      "\u001b[0;32m<ipython-input-313-473f2d6a1079>\u001b[0m in \u001b[0;36m<module>\u001b[0;34m()\u001b[0m\n\u001b[0;32m----> 1\u001b[0;31m \u001b[0mfemales\u001b[0m\u001b[0;34m[\u001b[0m\u001b[0mfemales\u001b[0m\u001b[0;34m[\u001b[0m\u001b[0;36m1\u001b[0m\u001b[0;34m]\u001b[0m\u001b[0;34m.\u001b[0m\u001b[0mcurrentMales\u001b[0m\u001b[0;34m]\u001b[0m\u001b[0;34m\u001b[0m\u001b[0m\n\u001b[0m",
      "\u001b[0;31mTypeError\u001b[0m: list indices must be integers, not list"
     ]
    }
   ],
   "source": [
    "females[females[1].currentMales] "
   ]
  },
  {
   "cell_type": "code",
   "execution_count": 323,
   "metadata": {
    "collapsed": false
   },
   "outputs": [
    {
     "data": {
      "text/plain": [
       "{3, 9, 10}"
      ]
     },
     "execution_count": 323,
     "metadata": {},
     "output_type": "execute_result"
    }
   ],
   "source": [
    "set([9,10,3])"
   ]
  },
  {
   "cell_type": "code",
   "execution_count": 329,
   "metadata": {
    "collapsed": false
   },
   "outputs": [
    {
     "data": {
      "text/plain": [
       "0"
      ]
     },
     "execution_count": 329,
     "metadata": {},
     "output_type": "execute_result"
    }
   ],
   "source": [
    "males[1].prefList.index(1)"
   ]
  },
  {
   "cell_type": "code",
   "execution_count": 344,
   "metadata": {
    "collapsed": true
   },
   "outputs": [],
   "source": [
    "a = [1,5,3,4,5]"
   ]
  },
  {
   "cell_type": "code",
   "execution_count": 334,
   "metadata": {
    "collapsed": false
   },
   "outputs": [
    {
     "data": {
      "text/plain": [
       "3"
      ]
     },
     "execution_count": 334,
     "metadata": {},
     "output_type": "execute_result"
    }
   ],
   "source": [
    "a.index(4)"
   ]
  },
  {
   "cell_type": "code",
   "execution_count": 337,
   "metadata": {
    "collapsed": true
   },
   "outputs": [],
   "source": [
    "a = []"
   ]
  },
  {
   "cell_type": "code",
   "execution_count": 338,
   "metadata": {
    "collapsed": false
   },
   "outputs": [
    {
     "data": {
      "text/plain": [
       "[]"
      ]
     },
     "execution_count": 338,
     "metadata": {},
     "output_type": "execute_result"
    }
   ],
   "source": [
    "a"
   ]
  },
  {
   "cell_type": "code",
   "execution_count": 352,
   "metadata": {
    "collapsed": false
   },
   "outputs": [
    {
     "name": "stdout",
     "output_type": "stream",
     "text": [
      "7\n"
     ]
    }
   ],
   "source": [
    "i = 1\n",
    "if i in females[males[1].preference()].prefList:\n",
    "    print(7)\n",
    "else:\n",
    "    print(100)"
   ]
  },
  {
   "cell_type": "code",
   "execution_count": 349,
   "metadata": {
    "collapsed": false
   },
   "outputs": [
    {
     "data": {
      "text/plain": [
       "[3, 1, 2, 3, 1]"
      ]
     },
     "execution_count": 349,
     "metadata": {},
     "output_type": "execute_result"
    }
   ],
   "source": [
    "females[males[1].preference()].prefList"
   ]
  },
  {
   "cell_type": "code",
   "execution_count": 365,
   "metadata": {
    "collapsed": false
   },
   "outputs": [
    {
     "data": {
      "text/plain": [
       "1"
      ]
     },
     "execution_count": 365,
     "metadata": {},
     "output_type": "execute_result"
    }
   ],
   "source": [
    "males[0].prefList[0]"
   ]
  },
  {
   "cell_type": "code",
   "execution_count": 376,
   "metadata": {
    "collapsed": false
   },
   "outputs": [
    {
     "data": {
      "text/plain": [
       "[1, 2, 3, 4, 5]"
      ]
     },
     "execution_count": 376,
     "metadata": {},
     "output_type": "execute_result"
    }
   ],
   "source": [
    "males"
   ]
  },
  {
   "cell_type": "code",
   "execution_count": null,
   "metadata": {
    "collapsed": true
   },
   "outputs": [],
   "source": []
  }
 ],
 "metadata": {
  "kernelspec": {
   "display_name": "Python 2",
   "language": "python",
   "name": "python2"
  },
  "language_info": {
   "codemirror_mode": {
    "name": "ipython",
    "version": 2
   },
   "file_extension": ".py",
   "mimetype": "text/x-python",
   "name": "python",
   "nbconvert_exporter": "python",
   "pygments_lexer": "ipython2",
   "version": "2.7.9"
  }
 },
 "nbformat": 4,
 "nbformat_minor": 0
}
